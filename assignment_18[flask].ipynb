{
 "cells": [
  {
   "cell_type": "markdown",
   "metadata": {},
   "source": [
    "# Assignment 18 Flask - 1"
   ]
  },
  {
   "cell_type": "code",
   "execution_count": null,
   "metadata": {},
   "outputs": [],
   "source": []
  },
  {
   "cell_type": "markdown",
   "metadata": {},
   "source": [
    "Q_1_ANS:-\n",
    "\n",
    "Flask is a micro web framework for Python, designed to make building web applications and APIs quick and easy. It is often referred to as a \"micro\" framework because it provides just the essentials needed to get a web application up and running, without imposing too many restrictions or pre-determined structures. Flask gives developers the flexibility to choose components and libraries they want to use, making it suitable for both simple and complex projects.\n",
    "\n",
    "Advantages of Flask Framework:\n",
    "\n",
    "1. **Minimalist Approach:** Flask follows a minimalist philosophy, providing only the basic components for web development. This means developers have the freedom to choose and integrate other libraries and tools according to their project's requirements.\n",
    "\n",
    "2. **Flexibility:** Flask doesn't enforce a specific structure on your project. You can organize your code and files the way you prefer, which is particularly useful for small projects or when working on unique application architectures.\n",
    "\n",
    "3. **Easy to Learn:** Flask's simple and intuitive design makes it a great choice for beginners in web development and Python. Its documentation is well-organized and comprehensive, making it easier to grasp the concepts and build applications.\n",
    "\n",
    "4. **Modularity:** Flask is built with modularity in mind. It's easy to break down your application into smaller components (such as views, models, and templates) and create reusable code.\n",
    "\n",
    "5. **Extensibility:** Flask has a wide range of extensions available that provide additional functionality, such as authentication, database integration, form handling, and more. These extensions save time and effort when adding features to your application.\n",
    "\n",
    "6. **Integrated Development Server:** Flask comes with a built-in development server, allowing you to quickly test your application without the need for a separate server setup during the early stages of development.\n",
    "\n",
    "7. **Lightweight:** Due to its minimalist design, Flask has a smaller codebase and fewer dependencies compared to larger frameworks, which can lead to better performance and reduced overhead.\n",
    "\n",
    "8. **Widely Used and Supported:** Flask has a large and active community of developers, which means you can find plenty of tutorials, guides, and resources online. This community support is valuable when you encounter issues or need assistance.\n",
    "\n",
    "9. **RESTful API Development:** Flask is commonly used for building RESTful APIs due to its flexibility and ease of handling HTTP requests and responses.\n",
    "\n",
    "10. **Scalability:** While Flask is often used for small to medium-sized projects, it can still handle more complex applications when used in combination with appropriate tools and design patterns.\n",
    "\n",
    "It's important to note that while Flask's flexibility is an advantage, it might not be the best choice for every project. For larger applications with more predefined structure and built-in features, you might consider using a more comprehensive framework like Django. The choice between Flask and other frameworks depends on the specific requirements and goals of your project."
   ]
  },
  {
   "cell_type": "code",
   "execution_count": null,
   "metadata": {},
   "outputs": [],
   "source": []
  },
  {
   "cell_type": "code",
   "execution_count": null,
   "metadata": {},
   "outputs": [],
   "source": []
  },
  {
   "cell_type": "markdown",
   "metadata": {},
   "source": [
    "Q_2_ANS:-\n",
    "\n",
    "Create a Flask Application:\n",
    "\n",
    "Create a Python file named app.py with the following content:"
   ]
  },
  {
   "cell_type": "code",
   "execution_count": 2,
   "metadata": {},
   "outputs": [
    {
     "name": "stdout",
     "output_type": "stream",
     "text": [
      " * Serving Flask app '__main__'\n",
      " * Debug mode: off\n"
     ]
    },
    {
     "name": "stderr",
     "output_type": "stream",
     "text": [
      "WARNING: This is a development server. Do not use it in a production deployment. Use a production WSGI server instead.\n",
      " * Running on http://127.0.0.1:5000\n",
      "Press CTRL+C to quit\n",
      "127.0.0.1 - - [16/Aug/2023 16:32:25] \"GET / HTTP/1.1\" 200 -\n",
      "127.0.0.1 - - [16/Aug/2023 16:32:26] \"GET /favicon.ico HTTP/1.1\" 404 -\n"
     ]
    }
   ],
   "source": [
    "from flask import Flask\n",
    "\n",
    "app = Flask(__name__)\n",
    "\n",
    "@app.route('/')\n",
    "def hello_world():\n",
    "    return 'Hello World!!'\n",
    "\n",
    "if __name__ == '__main__':\n",
    "    app.run()\n"
   ]
  },
  {
   "cell_type": "markdown",
   "metadata": {},
   "source": [
    "This will start the Flask development server. You'll see some output indicating that the server is running.\n",
    "\n",
    "Access the Application:\n",
    "Open your web browser and navigate to http://localhost:5000/. You should see the \"Hello World!!\" message displayed in your browser.\n",
    "\n",
    "Since I can't attach images here, you can try running the above steps on your local machine or Jupyter Notebook environment to see the output. If you encounter any issues or have further questions, feel free to ask!"
   ]
  },
  {
   "cell_type": "markdown",
   "metadata": {},
   "source": [
    "## Flask App Run Screenshoot Link\n",
    "\n",
    " #### You can see Hello World Page in flask App Screenshoot Click Below link 👇\n",
    "\n",
    "#### Click the link then you will get Screenshot 👇\n",
    "\n",
    "https://github.com/Yash-ingle-9021/assignment_18/blob/main/flask.pdf\n",
    "\n",
    "### Show the Welcome Page in Flask app route (\"/\")\n",
    "\n",
    "### then you can see 👇\n",
    "\n",
    "## Hello World\n",
    "\n",
    "###  Screenshoot avilable in my github repository \n",
    "\n",
    "#### Open Flask.pdf you will get Q_2  flask app run screenshoot in browser.  ip:- 127.0.0.1 , Port :- 5000\n"
   ]
  },
  {
   "cell_type": "code",
   "execution_count": null,
   "metadata": {},
   "outputs": [],
   "source": []
  },
  {
   "cell_type": "code",
   "execution_count": null,
   "metadata": {},
   "outputs": [],
   "source": []
  },
  {
   "cell_type": "markdown",
   "metadata": {},
   "source": [
    "Q_3_ANS:-\n",
    "\n",
    "In Flask, app routing refers to the process of mapping URLs (Uniform Resource Locators) to specific functions or view handlers within your Flask application. When a user accesses a URL in their web browser, the Flask app uses its routing mechanism to determine which function should handle that specific URL request.\n",
    "\n",
    "The `@app.route()` decorator is used to define routes in Flask. This decorator allows you to associate a URL pattern (or route) with a Python function. When a user accesses a URL that matches the specified route pattern, Flask calls the associated function to generate the response for that request.\n",
    "\n",
    "Here's an example of using app routes in Flask:\n"
   ]
  },
  {
   "cell_type": "code",
   "execution_count": 8,
   "metadata": {},
   "outputs": [
    {
     "name": "stdout",
     "output_type": "stream",
     "text": [
      " * Serving Flask app '__main__'\n",
      " * Debug mode: off\n"
     ]
    },
    {
     "name": "stderr",
     "output_type": "stream",
     "text": [
      "WARNING: This is a development server. Do not use it in a production deployment. Use a production WSGI server instead.\n",
      " * Running on http://127.0.0.1:5000\n",
      "Press CTRL+C to quit\n",
      "127.0.0.1 - - [16/Aug/2023 17:53:18] \"GET / HTTP/1.1\" 200 -\n",
      "127.0.0.1 - - [16/Aug/2023 17:53:18] \"GET /favicon.ico HTTP/1.1\" 404 -\n",
      "127.0.0.1 - - [16/Aug/2023 17:53:25] \"GET /about HTTP/1.1\" 200 -\n"
     ]
    }
   ],
   "source": [
    "from flask import Flask\n",
    "\n",
    "app = Flask(__name__)\n",
    "\n",
    "@app.route('/')\n",
    "def index():\n",
    "    return 'Welcome to ABC Corporation'\n",
    "\n",
    "@app.route('/about')\n",
    "def about():\n",
    "    return 'This is the about page.'\n",
    "\n",
    "@app.route('/contact')\n",
    "def contact():\n",
    "    return 'Contact us at: <a href=\"mailto:info@abccorp.com\">info@abccorp.com</a>'\n",
    "\n",
    "if __name__ == '__main__':\n",
    "    app.run()"
   ]
  },
  {
   "cell_type": "markdown",
   "metadata": {},
   "source": [
    "In this example, we've defined three different routes using the `@app.route()` decorator. When someone accesses the root URL (`/`), the `index()` function is called and it returns the \"Welcome to the homepage!\" message. Similarly, accessing `/about` triggers the `about()` function, and accessing `/contact` triggers the `contact()` function.\n",
    "\n",
    "Why do we use app routes?\n",
    "\n",
    "1. **URL Mapping:** App routes provide a clean and structured way to map URLs to specific functionality in your Flask application. This makes it easier to organize your code and handle different parts of your website or application.\n",
    "\n",
    "2. **Modularity:** App routes encourage modular design. You can create separate functions or view handlers for different sections of your application, making it easier to manage and maintain your codebase.\n",
    "\n",
    "3. **Dynamic Content:** App routes allow you to create dynamic URLs with placeholders. For example, you can define a route like `/user/<username>` to display user-specific content. The parameters from the URL can be passed as arguments to the associated function.\n",
    "\n",
    "4. **RESTful APIs:** If you're building a RESTful API, app routes are essential for handling different HTTP methods (GET, POST, PUT, DELETE) for different resources or endpoints.\n",
    "\n",
    "5. **Separation of Concerns:** App routes help you separate different concerns of your application, such as handling user authentication, serving static files, rendering templates, etc., into different functions.\n",
    "\n",
    "6. **Clean URL Structure:** App routes make it easy to create user-friendly and meaningful URLs for your web application, enhancing user experience and search engine optimization.\n",
    "\n",
    "Overall, app routes in Flask provide a powerful way to define the structure and behavior of your web application by associating URLs with the appropriate functions and views. This helps you create a well-organized, maintainable, and feature-rich application."
   ]
  },
  {
   "cell_type": "markdown",
   "metadata": {},
   "source": [
    "## Flask App Run Screenshoot Link\n",
    "\n",
    "### Show the Welcome Page in Flask app route (\"/\")\n",
    "\n",
    " #### You can see Welcome Page in flask App Screenshoot Click Below link 👇\n",
    "\n",
    "#### Click the link then you will get Screenshot 👇\n",
    "\n",
    "https://github.com/Yash-ingle-9021/assignment_18/blob/main/welcome.pdf\n",
    "\n",
    "### Show the About Page in Flask app route (\"/about\")\n",
    "\n",
    " #### You can see About Page in flask App Screenshoot Click Below link 👇\n",
    "\n",
    "#### Click the link then you will get Screenshot 👇\n",
    "\n",
    "  https://github.com/Yash-ingle-9021/assignment_18/blob/main/About.pdf\n",
    "\n",
    " ### Show the Contact Page in Flask app route (\"/contact\")\n",
    "\n",
    "  #### You can see Contact Details in flask App Screenshoot Click Below link 👇\n",
    "\n",
    " #### Click the link then you will get Screenshot 👇\n",
    "\n",
    " https://github.com/Yash-ingle-9021/assignment_18/blob/main/Contact.pdf\n",
    "\n",
    "###  Screenshoot avilable in my github repository \n",
    "\n",
    "#### Open Flask.pdf you will get Q_3  flask app run screenshoot in browser.  ip:- 127.0.0.1 , Port :- 5000"
   ]
  },
  {
   "cell_type": "code",
   "execution_count": null,
   "metadata": {},
   "outputs": [],
   "source": []
  },
  {
   "cell_type": "code",
   "execution_count": null,
   "metadata": {},
   "outputs": [],
   "source": []
  },
  {
   "cell_type": "markdown",
   "metadata": {},
   "source": [
    "Q_4_ANS:-"
   ]
  },
  {
   "cell_type": "code",
   "execution_count": 3,
   "metadata": {},
   "outputs": [
    {
     "name": "stdout",
     "output_type": "stream",
     "text": [
      " * Serving Flask app '__main__'\n",
      " * Debug mode: off\n"
     ]
    },
    {
     "name": "stderr",
     "output_type": "stream",
     "text": [
      "WARNING: This is a development server. Do not use it in a production deployment. Use a production WSGI server instead.\n",
      " * Running on http://127.0.0.1:5000\n",
      "Press CTRL+C to quit\n",
      "127.0.0.1 - - [16/Aug/2023 16:53:27] \"GET / HTTP/1.1\" 200 -\n"
     ]
    }
   ],
   "source": [
    "from flask import Flask\n",
    "\n",
    "app = Flask(__name__)\n",
    "\n",
    "@app.route('/welcome')\n",
    "def welcome():\n",
    "    return 'Welcome to ABC Corporation'\n",
    "\n",
    "@app.route('/')\n",
    "def company_details():\n",
    "    details = \"\"\"\n",
    "    Company Name: ABC Corporation\n",
    "    Location: India\n",
    "    Contact Detail: 999-999-9999\n",
    "    \"\"\"\n",
    "    return details\n",
    "\n",
    "if __name__ == '__main__':\n",
    "    app.run()\n"
   ]
  },
  {
   "cell_type": "markdown",
   "metadata": {},
   "source": [
    "In this example, the /welcome route is associated with the welcome() function, which returns the \"Welcome to ABC Corporation\" message when accessed.\n",
    "\n",
    "The / route is associated with the company_details() function, which returns the company details as a multi-line string when accessed. The details include the company name, location, and contact information.\n",
    "\n",
    "Remember to run the Flask application using the app.run() line at the end of the script. Once the application is running, you can access the /welcome and / routes in your web browser or by sending HTTP requests to those URLs.\n",
    "\n",
    "\n",
    "\n",
    "\n",
    "User\n",
    "What function is used in Flask for URL Building? Write a Python code to demonstrate the working of the url_for() function.\n",
    "ChatGPT\n",
    "In Flask, the url_for() function is used for URL building. It generates URLs for routes by taking the name of the function as an argument and any additional parameters that the route might require. This function is especially useful because it allows you to change the URL structure of your application without needing to update every reference to that URL manually.\n",
    "\n",
    "Here's a Python code example demonstrating the use of the url_for() function:\n",
    "\n",
    "python\n",
    "Copy code\n",
    "from flask import Flask, url_for\n",
    "\n",
    "app = Flask(__name__)\n",
    "\n",
    "@app.route('/welcome')\n",
    "def welcome():\n",
    "    return 'Welcome to ABC Corporation'\n",
    "\n",
    "@app.route('/company')\n",
    "def company_details():\n",
    "    return \"\"\"\n",
    "    Company Name: ABC Corporation\n",
    "    Location: India\n",
    "    Contact Detail: 999-999-9999\n",
    "    \"\"\"\n",
    "\n",
    "@app.route('/contact')\n",
    "def contact():\n",
    "    return 'Contact us at: <a href=\"mailto:info@abccorp.com\">info@abccorp.com</a>'\n",
    "\n",
    "if __name__ == '__main__':\n",
    "    with app.test_request_context():\n",
    "        print(\"URL for 'welcome':\", url_for('welcome'))\n",
    "        print(\"URL for 'company_details':\", url_for('company_details'))\n",
    "        print(\"URL for 'contact':\", url_for('contact'))\n",
    "In this code:\n",
    "\n",
    "We define three routes: /welcome, /company, and /contact.\n",
    "We import the url_for function from Flask.\n",
    "Inside the if __name__ == '__main__': block, we use the with app.test_request_context(): context to set up a temporary request context. This is necessary to use url_for() outside of a request context, as it requires the application's request context to function correctly.\n",
    "We use url_for() to generate URLs for each of the defined routes and print them to the console.\n",
    "When you run this code, you should see the URLs generated for each route using the url_for() function.\n",
    "\n",
    "Keep in mind that the url_for() function provides a way to generate URLs dynamically based on route functions, making it easier to manage your application's URLs and ensuring that changes to route names or structures are automatically reflected in your application's links.\n",
    "\n",
    "\n",
    "\n",
    "\n",
    "\n"
   ]
  },
  {
   "cell_type": "markdown",
   "metadata": {},
   "source": [
    "## Flask App Run Screenshoot Link\n",
    " \n",
    " #### You can see Company Details in flask App Screenshoot Click Below link 👇\n",
    "\n",
    "#### Click the link then you will get Screenshot 👇\n",
    "\n",
    " https://github.com/Yash-ingle-9021/assignment_18/blob/main/flask1app.pdf\n",
    "\n",
    "\n",
    "### Show the  Company Details in Flask app route (\"/\")\n",
    "\n",
    "### Company Name: ABC Corporation\n",
    "### Location: India\n",
    "### Contact Detail: 999-999-9999\n",
    "\n",
    "\n",
    "### Show the Welcome Page in Flask app route (\"/welcome\")\n",
    "\n",
    " #### You can see Welcome Page in flask App Screenshoot Click Below link 👇\n",
    "\n",
    "#### Click the link then you will get Screenshot 👇\n",
    "\n",
    "https://github.com/Yash-ingle-9021/assignment_18/blob/main/welcome.pdf\n",
    "\n",
    "###  Screenshoot avilable in my github repository \n",
    "\n",
    "#### Open Flask.pdf you will get Q_4  flask app run screenshoot in browser.  ip:- 127.0.0.1 , Port :- 5000"
   ]
  },
  {
   "cell_type": "code",
   "execution_count": null,
   "metadata": {},
   "outputs": [],
   "source": []
  },
  {
   "cell_type": "code",
   "execution_count": null,
   "metadata": {},
   "outputs": [],
   "source": []
  },
  {
   "cell_type": "markdown",
   "metadata": {},
   "source": [
    "Q_5_ANS:-\n",
    "\n",
    "In Flask, the url_for() function is used for URL building. It generates URLs for routes by taking the name of the function as an argument and any additional parameters that the route might require. This function is especially useful because it allows you to change the URL structure of your application without needing to update every reference to that URL manually.\n",
    "\n",
    "Here's a Python code example demonstrating the use of the url_for() function:"
   ]
  },
  {
   "cell_type": "code",
   "execution_count": 7,
   "metadata": {},
   "outputs": [
    {
     "name": "stdout",
     "output_type": "stream",
     "text": [
      "URL for 'welcome': /\n",
      "URL for 'company_details': /company\n",
      "URL for 'contact': /contact\n",
      " * Serving Flask app '__main__'\n",
      " * Debug mode: off\n"
     ]
    },
    {
     "name": "stderr",
     "output_type": "stream",
     "text": [
      "WARNING: This is a development server. Do not use it in a production deployment. Use a production WSGI server instead.\n",
      " * Running on http://127.0.0.1:5000\n",
      "Press CTRL+C to quit\n",
      "127.0.0.1 - - [16/Aug/2023 17:37:04] \"GET / HTTP/1.1\" 200 -\n",
      "127.0.0.1 - - [16/Aug/2023 17:37:20] \"GET / HTTP/1.1\" 200 -\n",
      "127.0.0.1 - - [16/Aug/2023 17:37:20] \"GET /favicon.ico HTTP/1.1\" 404 -\n",
      "127.0.0.1 - - [16/Aug/2023 17:37:30] \"GET /contact HTTP/1.1\" 200 -\n"
     ]
    }
   ],
   "source": [
    "from flask import Flask, url_for\n",
    "\n",
    "app = Flask(__name__)\n",
    "\n",
    "@app.route('/')\n",
    "def welcome():\n",
    "    return 'Welcome to ABC Corporation'\n",
    "\n",
    "@app.route('/company')\n",
    "def company_details():\n",
    "    return \"\"\"\n",
    "    Company Name: ABC Corporation\n",
    "    Location: India\n",
    "    Contact Detail: 999-999-9999\n",
    "    \"\"\"\n",
    "\n",
    "@app.route('/contact')\n",
    "def contact():\n",
    "    return 'Contact us at: <a href=\"mailto:info@abccorp.com\">info@abccorp.com</a>'\n",
    "\n",
    "if __name__ == '__main__':\n",
    "    with app.test_request_context():\n",
    "        print(\"URL for 'welcome':\", url_for('welcome'))\n",
    "        print(\"URL for 'company_details':\", url_for('company_details'))\n",
    "        print(\"URL for 'contact':\", url_for('contact'))\n",
    "        app.run()\n"
   ]
  },
  {
   "cell_type": "markdown",
   "metadata": {},
   "source": [
    "In this code:\n",
    "\n",
    "We define three routes: /welcome, /company, and /contact.\n",
    "We import the url_for function from Flask.\n",
    "Inside the if __name__ == '__main__': block, we use the with app.test_request_context(): context to set up a temporary request context. This is necessary to use url_for() outside of a request context, as it requires the application's request context to function correctly.\n",
    "We use url_for() to generate URLs for each of the defined routes and print them to the console.\n",
    "When you run this code, you should see the URLs generated for each route using the url_for() function.\n",
    "\n",
    "Keep in mind that the url_for() function provides a way to generate URLs dynamically based on route functions, making it easier to manage your application's URLs and ensuring that changes to route names or structures are automatically reflected in your application's links."
   ]
  },
  {
   "cell_type": "markdown",
   "metadata": {},
   "source": [
    "## Flask App Run Screenshoot Link\n",
    "\n",
    "### Show the Welcome Page in Flask app route (\"/\")\n",
    "\n",
    " #### You can see Welcome Page in flask App Screenshoot Click Below link 👇\n",
    "\n",
    "#### Click the link then you will get Screenshot 👇\n",
    "\n",
    "https://github.com/Yash-ingle-9021/assignment_18/blob/main/welcome.pdf\n",
    "\n",
    "### Show the Company Details in Flask app route (\"/company\")\n",
    "\n",
    "### Company Name: ABC Corporation\n",
    "### Location: India\n",
    "### Contact Detail: 999-999-9999\n",
    "\n",
    " #### You can see Company Details in flask App Screenshoot Click Below link 👇\n",
    "\n",
    "#### Click the link then you will get Screenshot 👇\n",
    "\n",
    "  https://github.com/Yash-ingle-9021/assignment_18/blob/main/flask1app.pdf\n",
    "\n",
    " ### Show the Contact Page in Flask app route (\"/contact\")\n",
    "\n",
    "  #### You can see Contact Details in flask App Screenshoot Click Below link 👇\n",
    "\n",
    " #### Click the link then you will get Screenshot 👇\n",
    "\n",
    " https://github.com/Yash-ingle-9021/assignment_18/blob/main/Contact.pdf\n",
    "\n",
    "###  Screenshoot avilable in my github repository \n",
    "\n",
    "#### Open Flask.pdf you will get Q_5  flask app run screenshoot in browser.  ip:- 127.0.0.1 , Port :- 5000"
   ]
  },
  {
   "cell_type": "code",
   "execution_count": null,
   "metadata": {},
   "outputs": [],
   "source": []
  }
 ],
 "metadata": {
  "kernelspec": {
   "display_name": "base",
   "language": "python",
   "name": "python3"
  },
  "language_info": {
   "codemirror_mode": {
    "name": "ipython",
    "version": 3
   },
   "file_extension": ".py",
   "mimetype": "text/x-python",
   "name": "python",
   "nbconvert_exporter": "python",
   "pygments_lexer": "ipython3",
   "version": "3.11.3"
  },
  "orig_nbformat": 4
 },
 "nbformat": 4,
 "nbformat_minor": 2
}
