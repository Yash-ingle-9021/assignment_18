{
 "cells": [
  {
   "cell_type": "code",
   "execution_count": 1,
   "id": "7df12f1f-1fd2-4d22-b10b-a397b3e6254e",
   "metadata": {},
   "outputs": [
    {
     "name": "stdout",
     "output_type": "stream",
     "text": [
      "* ASSIGNMENT_18_FLASK *\n"
     ]
    }
   ],
   "source": [
    "print(\"* ASSIGNMENT_18_FLASK *\")"
   ]
  },
  {
   "cell_type": "code",
   "execution_count": 3,
   "id": "bb0eef2e-512b-45c4-bc33-d98124de9d6e",
   "metadata": {},
   "outputs": [
    {
     "name": "stdout",
     "output_type": "stream",
     "text": [
      "Q_1_ANS :- Flask is a web framework, it’s a Python module that lets you develop web applications easily. It’s has a small and easy-to-extend core: it’s a microframework that doesn’t include an ORM (Object Relational Manager) or such features.\n",
      "Flask is a web application framework written in Python. It was developed by Armin Ronacher, who led a team of international Python enthusiasts called Poocco. Flask is based on the Werkzeg WSGI toolkit and the Jinja2 template engine.Both are Pocco projects.\n",
      "The Web Server Gateway Interface (Web Server Gateway Interface, WSGI) has been used as a standard for Python web application development. WSGI is the specification of a common interface between web servers and web applications.\n",
      "Werkzeug is a WSGI toolkit that implements requests, response objects, and utility functions. This enables a web frame to be built on it. The Flask framework uses Werkzeg as one of its bases.\n",
      "jinja2 is a popular template engine for Python.A web template system combines a template with a specific data source to render a dynamic web page.\n",
      "Advantages of Flask :- \n",
      "Lightweight: Flask is a lightweight framework because it is independent of external libraries and it gives a quick start for web development having complex applications.\n",
      "Compatible: Flask is compatible with the latest technologies such as machine learning, agile development, cloud technologies, etc.\n",
      "Independent: Flask allows full control to the developers for creating web applications. A developer can do the experiment with the libraries and architecture of the framework.\n",
      "Integrated Unit Testing: Flask offers an integrated unit testing feature that helps in faster debugging, robust development, and independence to do experiments.\n",
      "Flexible and Scalable: Flask supports WSGI templates that help in flexibility and scalability in the web development process.\n",
      "Secure Cookies: Secure cookie is an attribute of an HTTP request that enables the security of channels and ensures no unauthorized person has access to the text. Flask supports the feature of secure cookies. \n"
     ]
    }
   ],
   "source": [
    "print(\"Q_1_ANS :- Flask is a web framework, it’s a Python module that lets you develop web applications easily. It’s has a small and easy-to-extend core: it’s a microframework that doesn’t include an ORM (Object Relational Manager) or such features.\\nFlask is a web application framework written in Python. It was developed by Armin Ronacher, who led a team of international Python enthusiasts called Poocco. Flask is based on the Werkzeg WSGI toolkit and the Jinja2 template engine.Both are Pocco projects.\\nThe Web Server Gateway Interface (Web Server Gateway Interface, WSGI) has been used as a standard for Python web application development. WSGI is the specification of a common interface between web servers and web applications.\\nWerkzeug is a WSGI toolkit that implements requests, response objects, and utility functions. This enables a web frame to be built on it. The Flask framework uses Werkzeg as one of its bases.\\njinja2 is a popular template engine for Python.A web template system combines a template with a specific data source to render a dynamic web page.\\nAdvantages of Flask :- \\nLightweight: Flask is a lightweight framework because it is independent of external libraries and it gives a quick start for web development having complex applications.\\nCompatible: Flask is compatible with the latest technologies such as machine learning, agile development, cloud technologies, etc.\\nIndependent: Flask allows full control to the developers for creating web applications. A developer can do the experiment with the libraries and architecture of the framework.\\nIntegrated Unit Testing: Flask offers an integrated unit testing feature that helps in faster debugging, robust development, and independence to do experiments.\\nFlexible and Scalable: Flask supports WSGI templates that help in flexibility and scalability in the web development process.\\nSecure Cookies: Secure cookie is an attribute of an HTTP request that enables the security of channels and ensures no unauthorized person has access to the text. Flask supports the feature of secure cookies. \")"
   ]
  },
  {
   "cell_type": "code",
   "execution_count": 4,
   "id": "16f7df55-0eb9-4506-b2d4-a0adf54abe52",
   "metadata": {},
   "outputs": [
    {
     "name": "stdout",
     "output_type": "stream",
     "text": [
      "Q_2_ANS :- create flask application\n"
     ]
    }
   ],
   "source": [
    "print(\"Q_2_ANS :- create flask application\")\n",
    "\n",
    "from flask import Flask\n",
    "app = Flask(__name__)\n",
    "\n",
    "@app.route(\"/\")\n",
    "def hello():\n",
    "    return \"<h1>Hello World!</h1>\"\n",
    "\n",
    "if __name__==\"__main__\":\n",
    "    app.run(host = \"0.0.0.0\")\n",
    "\n",
    "# -----> Screenshoot\n",
    "# https://mango-judge-xbiyv.ineuron.app/lab/tree/work/flask.pdf"
   ]
  },
  {
   "cell_type": "code",
   "execution_count": 5,
   "id": "bcb341d7-f855-46f3-948b-daa1672e5177",
   "metadata": {},
   "outputs": [
    {
     "name": "stdout",
     "output_type": "stream",
     "text": [
      "Q_3_ANS :- App Routing means mapping the URLs to a specific function that will handle the logic for that URL.\n",
      "Modern web frameworks use more meaningful URLs to help users remember the URLs and make navigation simpler.\n",
      "Example: In our application, the URL (“/”) is associated with the root URL. So if our site’s domain was www.example.org and we want to add routing to “www.example.org/hello”, we would use “/hello”.\n",
      "To bind a function to an URL path we use the app.route decorator.\n",
      "App routing is used to map the specific URL with the associated function that is intended to perform some task. It is used to access some particular page like Flask Tutorial in the web application.\n"
     ]
    }
   ],
   "source": [
    "print(\"Q_3_ANS :- App Routing means mapping the URLs to a specific function that will handle the logic for that URL.\\nModern web frameworks use more meaningful URLs to help users remember the URLs and make navigation simpler.\\nExample: In our application, the URL (“/”) is associated with the root URL. So if our site’s domain was www.example.org and we want to add routing to “www.example.org/hello”, we would use “/hello”.\\nTo bind a function to an URL path we use the app.route decorator.\\nApp routing is used to map the specific URL with the associated function that is intended to perform some task. It is used to access some particular page like Flask Tutorial in the web application.\")"
   ]
  },
  {
   "cell_type": "code",
   "execution_count": null,
   "id": "e9089763-91c1-4dc1-b060-6b9a84259426",
   "metadata": {},
   "outputs": [],
   "source": [
    "print(\"Q_4_ANS :- \")\n",
    "from flask import Flask\n",
    "\n",
    "app = Flask(__name__)\n",
    "\n",
    "@app.route(\"/\")\n",
    "def hello():\n",
    "    return \"<h1>Company Name : ABC Corporation</h1><h1>Location : India </h1><h1>Contact Detail : 999-999-9999</h1>\"\n",
    "\n",
    "@app.route(\"/welcome\")\n",
    "def welcome():\n",
    "    return \"<h1>Welcome to ABC Corporation</h1>\"\n",
    "if __name__==\"__main__\":\n",
    "    app.run(host=\"0.0.0.0\")\n",
    "# -----> Screenshoot\n",
    "#https://mango-judge-xbiyv.ineuron.app/lab/tree/work/flask1app.pdf\n",
    "#https://mango-judge-xbiyv.ineuron.app/lab/tree/work/welcome.pdf"
   ]
  },
  {
   "cell_type": "code",
   "execution_count": null,
   "id": "8c9a82f4-0b8a-4462-9a23-5e29f22518e7",
   "metadata": {},
   "outputs": [],
   "source": [
    "print(\"Q_5_ANS :- The url_for() function is used to build a URL to the specific function dynamically. The first argument is the name of the specified function, and then we can pass any number of keyword argument corresponding to the variable part of the URL.\\nFlask url_for() method :-\\nThe url_for() method, is used to prepare a URL, for a function dynamically, such that, changing URLs, in the application, is avoided. It accepts, the name of the view function, as the first argument, and, any number of keywords, to be sent(to the view function), as the second argument. \")"
   ]
  }
 ],
 "metadata": {
  "kernelspec": {
   "display_name": "Python 3 (ipykernel)",
   "language": "python",
   "name": "python3"
  },
  "language_info": {
   "codemirror_mode": {
    "name": "ipython",
    "version": 3
   },
   "file_extension": ".py",
   "mimetype": "text/x-python",
   "name": "python",
   "nbconvert_exporter": "python",
   "pygments_lexer": "ipython3",
   "version": "3.10.6"
  }
 },
 "nbformat": 4,
 "nbformat_minor": 5
}
